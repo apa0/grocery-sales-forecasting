{
 "cells": [
  {
   "cell_type": "markdown",
   "metadata": {},
   "source": [
    "# In this notebook, we will load our cleaned data set (train) and join with dimension tables for plots \n",
    "\n",
    "Take our cleaned train and use our additional dimension tables (items, stores, transactions, holiday_events, oil) to merge for visualizations"
   ]
  },
  {
   "cell_type": "code",
   "execution_count": null,
   "metadata": {},
   "outputs": [],
   "source": []
  }
 ],
 "metadata": {
  "language_info": {
   "name": "python"
  }
 },
 "nbformat": 4,
 "nbformat_minor": 2
}
