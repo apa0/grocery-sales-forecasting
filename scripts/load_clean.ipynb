{
 "cells": [
  {
   "cell_type": "markdown",
   "id": "cf762515",
   "metadata": {},
   "source": [
    "## In this notebook, we will load and clean our data\n",
    " We are working with 10 files, but df_train_all_v1.parquet is the full training data set we can start with\n",
    "\n"
   ]
  },
  {
   "cell_type": "code",
   "execution_count": null,
   "id": "5774345d",
   "metadata": {},
   "outputs": [],
   "source": [
    "# Core fact tables (sales data):\n",
    "#\t•\tdf2016_train.parquet (subset, probably for initial testing/competition baseline)\n",
    "#\t•\tdf_train_all_v1.parquet (full training set)\n",
    "#\t•\tdf_test.parquet, df_test_2022.parquet (test sets)\n",
    "#\t•\tsample_submission.parquet (submission format, not for analysis)\n",
    "\n",
    "# Supporting dimension tables (metadata & signals):\n",
    "#\t•\titems.parquet (item family, perishable flag, etc.)\n",
    "#\t•\tstores.parquet (store city, type, cluster)\n",
    "#\t•\ttransactions.parquet (daily transaction counts by store)\n",
    "#\t•\tholiday_events.parquet (dates + holiday flags)\n",
    "#\t•\toil.parquet (daily oil prices)"
   ]
  },
  {
   "cell_type": "code",
   "execution_count": 4,
   "id": "95f325b1",
   "metadata": {},
   "outputs": [],
   "source": [
    "#add libraries to use\n",
    "import pandas as pd\n",
    "import numpy as np\n",
    "import matplotlib.pyplot as plt\n",
    "import seaborn as sns"
   ]
  },
  {
   "cell_type": "code",
   "execution_count": 12,
   "id": "88eb7d17",
   "metadata": {},
   "outputs": [
    {
     "name": "stdout",
     "output_type": "stream",
     "text": [
      "/Users/angiediaz/CPSC4300/grocery-sales-forecasting/scripts\n"
     ]
    }
   ],
   "source": [
    "import os\n",
    "print(os.getcwd())"
   ]
  },
  {
   "cell_type": "code",
   "execution_count": 13,
   "id": "e1bd5343",
   "metadata": {},
   "outputs": [],
   "source": [
    "# Load in df_train_all_v1.parquet\n",
    "df_train = pd.read_parquet(\"../data/raw/df_train_all_v1.parquet\")\n",
    "df_items = pd.read_parquet(\"../data/raw/items.parquet\")\n",
    "df_stores = pd.read_parquet(\"../data/raw/stores.parquet\")"
   ]
  },
  {
   "cell_type": "code",
   "execution_count": 16,
   "id": "ff73dd54",
   "metadata": {},
   "outputs": [
    {
     "name": "stdout",
     "output_type": "stream",
     "text": [
      "(125497040, 5)\n",
      "date           datetime64[us]\n",
      "store_nbr               int64\n",
      "item_nbr                int64\n",
      "unit_sales            float64\n",
      "onpromotion              bool\n",
      "dtype: object\n",
      "date           0\n",
      "store_nbr      0\n",
      "item_nbr       0\n",
      "unit_sales     0\n",
      "onpromotion    0\n",
      "dtype: int64\n",
      "<class 'pandas.core.frame.DataFrame'>\n",
      "RangeIndex: 125497040 entries, 0 to 125497039\n",
      "Data columns (total 5 columns):\n",
      " #   Column       Dtype         \n",
      "---  ------       -----         \n",
      " 0   date         datetime64[us]\n",
      " 1   store_nbr    int64         \n",
      " 2   item_nbr     int64         \n",
      " 3   unit_sales   float64       \n",
      " 4   onpromotion  bool          \n",
      "dtypes: bool(1), datetime64[us](1), float64(1), int64(2)\n",
      "memory usage: 3.9 GB\n"
     ]
    }
   ],
   "source": [
    "#Check its shape, types and missing values\n",
    "\n",
    "print(df_train.shape)\n",
    "print(df_train.dtypes)\n",
    "print(df_train.isnull().sum())\n",
    "\n",
    "df_train.info()"
   ]
  },
  {
   "cell_type": "code",
   "execution_count": 19,
   "id": "9cfea6ab",
   "metadata": {},
   "outputs": [
    {
     "data": {
      "text/plain": [
       "Index(['date', 'store_nbr', 'item_nbr', 'unit_sales', 'onpromotion'], dtype='object')"
      ]
     },
     "execution_count": 19,
     "metadata": {},
     "output_type": "execute_result"
    }
   ],
   "source": [
    "df_train.columns"
   ]
  },
  {
   "cell_type": "code",
   "execution_count": 17,
   "id": "4378e78c",
   "metadata": {},
   "outputs": [
    {
     "data": {
      "text/html": [
       "<div>\n",
       "<style scoped>\n",
       "    .dataframe tbody tr th:only-of-type {\n",
       "        vertical-align: middle;\n",
       "    }\n",
       "\n",
       "    .dataframe tbody tr th {\n",
       "        vertical-align: top;\n",
       "    }\n",
       "\n",
       "    .dataframe thead th {\n",
       "        text-align: right;\n",
       "    }\n",
       "</style>\n",
       "<table border=\"1\" class=\"dataframe\">\n",
       "  <thead>\n",
       "    <tr style=\"text-align: right;\">\n",
       "      <th></th>\n",
       "      <th>date</th>\n",
       "      <th>store_nbr</th>\n",
       "      <th>item_nbr</th>\n",
       "      <th>unit_sales</th>\n",
       "      <th>onpromotion</th>\n",
       "    </tr>\n",
       "  </thead>\n",
       "  <tbody>\n",
       "    <tr>\n",
       "      <th>0</th>\n",
       "      <td>2013-01-01</td>\n",
       "      <td>25</td>\n",
       "      <td>103665</td>\n",
       "      <td>2.079442</td>\n",
       "      <td>False</td>\n",
       "    </tr>\n",
       "    <tr>\n",
       "      <th>1</th>\n",
       "      <td>2013-01-01</td>\n",
       "      <td>25</td>\n",
       "      <td>105574</td>\n",
       "      <td>0.693147</td>\n",
       "      <td>False</td>\n",
       "    </tr>\n",
       "    <tr>\n",
       "      <th>2</th>\n",
       "      <td>2013-01-01</td>\n",
       "      <td>25</td>\n",
       "      <td>105575</td>\n",
       "      <td>1.098612</td>\n",
       "      <td>False</td>\n",
       "    </tr>\n",
       "    <tr>\n",
       "      <th>3</th>\n",
       "      <td>2013-01-01</td>\n",
       "      <td>25</td>\n",
       "      <td>108079</td>\n",
       "      <td>0.693147</td>\n",
       "      <td>False</td>\n",
       "    </tr>\n",
       "    <tr>\n",
       "      <th>4</th>\n",
       "      <td>2013-01-01</td>\n",
       "      <td>25</td>\n",
       "      <td>108701</td>\n",
       "      <td>0.693147</td>\n",
       "      <td>False</td>\n",
       "    </tr>\n",
       "  </tbody>\n",
       "</table>\n",
       "</div>"
      ],
      "text/plain": [
       "        date  store_nbr  item_nbr  unit_sales  onpromotion\n",
       "0 2013-01-01         25    103665    2.079442        False\n",
       "1 2013-01-01         25    105574    0.693147        False\n",
       "2 2013-01-01         25    105575    1.098612        False\n",
       "3 2013-01-01         25    108079    0.693147        False\n",
       "4 2013-01-01         25    108701    0.693147        False"
      ]
     },
     "execution_count": 17,
     "metadata": {},
     "output_type": "execute_result"
    }
   ],
   "source": [
    "df_train.head()"
   ]
  },
  {
   "cell_type": "code",
   "execution_count": null,
   "id": "c4f02ed8",
   "metadata": {},
   "outputs": [],
   "source": [
    "# So after looking at the data, we can see that there are no missing values in the dataset\n",
    "# We can also see that the date column is already in datetime format\n",
    "# All the other columns have the correct type\n",
    "# This is a huge dataset, will need to be cautious with memory usage"
   ]
  }
 ],
 "metadata": {
  "kernelspec": {
   "display_name": "CPSC4300",
   "language": "python",
   "name": "python3"
  },
  "language_info": {
   "codemirror_mode": {
    "name": "ipython",
    "version": 3
   },
   "file_extension": ".py",
   "mimetype": "text/x-python",
   "name": "python",
   "nbconvert_exporter": "python",
   "pygments_lexer": "ipython3",
   "version": "3.11.13"
  }
 },
 "nbformat": 4,
 "nbformat_minor": 5
}
