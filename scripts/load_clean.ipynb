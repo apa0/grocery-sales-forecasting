{
 "cells": [
  {
   "cell_type": "markdown",
   "id": "cf762515",
   "metadata": {},
   "source": [
    "## In this notebook, we will load and clean our data\n",
    " We are working with 10 files, but df_train_all_v1.parquet is the full training data set we can start with\n",
    "\n"
   ]
  },
  {
   "cell_type": "code",
   "execution_count": null,
   "id": "95f325b1",
   "metadata": {},
   "outputs": [],
   "source": [
    "#add libraries to use"
   ]
  },
  {
   "cell_type": "code",
   "execution_count": null,
   "id": "e1bd5343",
   "metadata": {},
   "outputs": [],
   "source": [
    "# Load in df_train_all_v1.parquet\n",
    "\n"
   ]
  },
  {
   "cell_type": "code",
   "execution_count": null,
   "id": "ff73dd54",
   "metadata": {},
   "outputs": [],
   "source": [
    "#Check its shape, types and missing values"
   ]
  }
 ],
 "metadata": {
  "kernelspec": {
   "display_name": "CPSC4300",
   "language": "python",
   "name": "python3"
  },
  "language_info": {
   "codemirror_mode": {
    "name": "ipython",
    "version": 3
   },
   "file_extension": ".py",
   "mimetype": "text/x-python",
   "name": "python",
   "nbconvert_exporter": "python",
   "pygments_lexer": "ipython3",
   "version": "3.11.13"
  }
 },
 "nbformat": 4,
 "nbformat_minor": 5
}
